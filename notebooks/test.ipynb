{
 "cells": [
  {
   "cell_type": "code",
   "execution_count": 1,
   "metadata": {},
   "outputs": [],
   "source": [
    "import numpy as np"
   ]
  },
  {
   "cell_type": "code",
   "execution_count": 2,
   "metadata": {},
   "outputs": [],
   "source": [
    "from ing.models.cir import CIR\n",
    "from ing.fit.simulator import SimulationSDE\n",
    "from ing.fit.transition_density import ExactDensity\n",
    "from ing.fit.mle_estimator import MLE"
   ]
  },
  {
   "cell_type": "code",
   "execution_count": 3,
   "metadata": {},
   "outputs": [],
   "source": [
    "model = CIR()  # Cox-Ingersol-Ross"
   ]
  },
  {
   "cell_type": "code",
   "execution_count": 4,
   "metadata": {},
   "outputs": [],
   "source": [
    "kappa = 3  # rate of mean reversion\n",
    "mu = 0.3  # long term level of process\n",
    "sigma = 0.2  # volatility\n",
    "\n",
    "model.params = np.array([kappa, mu, sigma])"
   ]
  },
  {
   "cell_type": "code",
   "execution_count": 5,
   "metadata": {},
   "outputs": [],
   "source": [
    "S0 = 0.4  # initial value of process\n",
    "T = 5  # num years of the sample\n",
    "freq = 250  # observations per year\n",
    "dt = 1.0 / freq\n",
    "seed = 123  # random seed: set to None to get new results each time\n",
    "\n",
    "simulator = SimulationSDE(S0=S0, M=T * freq, dt=dt, model=model).set_seed(seed=seed)\n",
    "sample = simulator.sim_path()"
   ]
  },
  {
   "cell_type": "code",
   "execution_count": 6,
   "metadata": {},
   "outputs": [],
   "source": [
    "# Set the parameter bounds for fitting  (kappa, mu, sigma)\n",
    "param_bounds = [(0, 10), (0, 4), (0.01, 1)]\n",
    "\n",
    "# Choose some initial guess for params fit\n",
    "guess = np.array([1, 0.1, 0.4])"
   ]
  },
  {
   "cell_type": "code",
   "execution_count": 7,
   "metadata": {},
   "outputs": [
    {
     "name": "stdout",
     "output_type": "stream",
     "text": [
      "Initial Params: [1.  0.1 0.4]\n",
      "Initial Likelihood: 3997.771635253025\n",
      "`xtol` termination condition is satisfied.\n",
      "Number of iterations: 74, function evaluations: 244, CG iterations: 181, optimality: 9.05e-01, constraint violation: 0.00e+00, execution time: 0.25 s.\n",
      "Final Params: [1.24822001 0.3122104  0.20065481]\n",
      "Final Likelihood: 4396.323304767031\n"
     ]
    },
    {
     "name": "stderr",
     "output_type": "stream",
     "text": [
      "/Library/Frameworks/Python.framework/Versions/3.11/lib/python3.11/site-packages/scipy/optimize/_differentiable_functions.py:231: UserWarning: delta_grad == 0.0. Check if the approximated function is linear. If the function is linear better results can be obtained by defining the Hessian as zero instead of using quasi-Newton approximations.\n",
      "  self.H.update(self.x - self.x_prev, self.g - self.g_prev)\n"
     ]
    }
   ],
   "source": [
    "exact_est = MLE(sample, param_bounds, dt, density=ExactDensity(model)).estimate_params(\n",
    "    guess\n",
    ")"
   ]
  },
  {
   "cell_type": "code",
   "execution_count": 8,
   "metadata": {},
   "outputs": [
    {
     "name": "stdout",
     "output_type": "stream",
     "text": [
      "\n",
      "Exact MLE: \n",
      "params      | [1.24822001 0.3122104  0.20065481] \n",
      "sample size | 1250 \n",
      "likelihood  | 4396.323304767031 \n",
      "AIC         | -8786.646609534062\n",
      "BIC         | -8771.253913043172\n"
     ]
    }
   ],
   "source": [
    "print(f\"\\nExact MLE: {exact_est}\")"
   ]
  },
  {
   "cell_type": "markdown",
   "metadata": {},
   "source": []
  }
 ],
 "metadata": {
  "kernelspec": {
   "display_name": "Python 3",
   "language": "python",
   "name": "python3"
  },
  "language_info": {
   "codemirror_mode": {
    "name": "ipython",
    "version": 3
   },
   "file_extension": ".py",
   "mimetype": "text/x-python",
   "name": "python",
   "nbconvert_exporter": "python",
   "pygments_lexer": "ipython3",
   "version": "3.11.3"
  }
 },
 "nbformat": 4,
 "nbformat_minor": 2
}
