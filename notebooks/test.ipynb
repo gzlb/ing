{
 "cells": [
  {
   "cell_type": "code",
   "execution_count": null,
   "metadata": {},
   "outputs": [],
   "source": [
    "import numpy as np"
   ]
  },
  {
   "cell_type": "code",
   "execution_count": null,
   "metadata": {},
   "outputs": [],
   "source": [
    "from ing.fit.cir import CIR\n",
    "from ing.fit.simulator import Simulator1D\n",
    "from ing.fit.transition_density import ExactDensity\n",
    "from ing.fit.mle_estimator import MLE"
   ]
  },
  {
   "cell_type": "code",
   "execution_count": null,
   "metadata": {},
   "outputs": [],
   "source": [
    "model = CIR()  # Cox-Ingersol-Ross"
   ]
  },
  {
   "cell_type": "code",
   "execution_count": null,
   "metadata": {},
   "outputs": [],
   "source": [
    "kappa = 3  # rate of mean reversion\n",
    "mu = 0.3  # long term level of process\n",
    "sigma = 0.2  # volatility\n",
    "\n",
    "model.params = np.array([kappa, mu, sigma])"
   ]
  },
  {
   "cell_type": "code",
   "execution_count": null,
   "metadata": {},
   "outputs": [],
   "source": [
    "S0 = 0.4  # initial value of process\n",
    "T = 5  # num years of the sample\n",
    "freq = 250  # observations per year\n",
    "dt = 1.0 / freq\n",
    "seed = 123  # random seed: set to None to get new results each time\n",
    "\n",
    "simulator = Simulator1D(S0=S0, M=T * freq, dt=dt, model=model).set_seed(seed=seed)\n",
    "sample = simulator.sim_path()"
   ]
  },
  {
   "cell_type": "code",
   "execution_count": null,
   "metadata": {},
   "outputs": [],
   "source": [
    "# Set the parameter bounds for fitting  (kappa, mu, sigma)\n",
    "param_bounds = [(0, 10), (0, 4), (0.01, 1)]\n",
    "\n",
    "# Choose some initial guess for params fit\n",
    "guess = np.array([1, 0.1, 0.4])"
   ]
  },
  {
   "cell_type": "code",
   "execution_count": null,
   "metadata": {},
   "outputs": [],
   "source": [
    "exact_est = MLE(sample, param_bounds, dt, density=ExactDensity(model)).estimate_params(\n",
    "    guess\n",
    ")"
   ]
  },
  {
   "cell_type": "code",
   "execution_count": null,
   "metadata": {},
   "outputs": [],
   "source": [
    "print(f\"\\nExact MLE: {exact_est}\")"
   ]
  },
  {
   "cell_type": "markdown",
   "metadata": {},
   "source": []
  }
 ],
 "metadata": {
  "kernelspec": {
   "display_name": "Python 3",
   "language": "python",
   "name": "python3"
  },
  "language_info": {
   "codemirror_mode": {
    "name": "ipython",
    "version": 3
   },
   "file_extension": ".py",
   "mimetype": "text/x-python",
   "name": "python",
   "nbconvert_exporter": "python",
   "pygments_lexer": "ipython3",
   "version": "3.11.3"
  }
 },
 "nbformat": 4,
 "nbformat_minor": 2
}
