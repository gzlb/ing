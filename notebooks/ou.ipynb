{
 "cells": [
  {
   "cell_type": "markdown",
   "metadata": {},
   "source": [
    "# Ornstein-Uhlenbeck Process"
   ]
  },
  {
   "cell_type": "code",
   "execution_count": 7,
   "metadata": {},
   "outputs": [],
   "source": [
    "import numpy as np"
   ]
  },
  {
   "cell_type": "code",
   "execution_count": 6,
   "metadata": {},
   "outputs": [],
   "source": [
    "from ing.models.ou import OrnsteinUhlenbeck\n",
    "from ing.fit.transition_density import ExactDensity\n",
    "from ing.fit.mle_estimator import MLE\n",
    "\n",
    "from ing.utils.data_utils import read_excel_to_series, strip_data"
   ]
  },
  {
   "cell_type": "code",
   "execution_count": 2,
   "metadata": {},
   "outputs": [],
   "source": [
    "FILE_PATH = \"../data/spread.xlsx\"\n",
    "COLUMN = \"Spread\""
   ]
  },
  {
   "cell_type": "code",
   "execution_count": 3,
   "metadata": {},
   "outputs": [
    {
     "data": {
      "text/html": [
       "<div>\n",
       "<style scoped>\n",
       "    .dataframe tbody tr th:only-of-type {\n",
       "        vertical-align: middle;\n",
       "    }\n",
       "\n",
       "    .dataframe tbody tr th {\n",
       "        vertical-align: top;\n",
       "    }\n",
       "\n",
       "    .dataframe thead th {\n",
       "        text-align: right;\n",
       "    }\n",
       "</style>\n",
       "<table border=\"1\" class=\"dataframe\">\n",
       "  <thead>\n",
       "    <tr style=\"text-align: right;\">\n",
       "      <th></th>\n",
       "      <th>Unnamed: 0</th>\n",
       "      <th>Spread</th>\n",
       "    </tr>\n",
       "  </thead>\n",
       "  <tbody>\n",
       "    <tr>\n",
       "      <th>0</th>\n",
       "      <td>0</td>\n",
       "      <td>20.380000</td>\n",
       "    </tr>\n",
       "    <tr>\n",
       "      <th>1</th>\n",
       "      <td>1</td>\n",
       "      <td>20.400000</td>\n",
       "    </tr>\n",
       "    <tr>\n",
       "      <th>2</th>\n",
       "      <td>2</td>\n",
       "      <td>20.412500</td>\n",
       "    </tr>\n",
       "    <tr>\n",
       "      <th>3</th>\n",
       "      <td>3</td>\n",
       "      <td>20.418125</td>\n",
       "    </tr>\n",
       "    <tr>\n",
       "      <th>4</th>\n",
       "      <td>4</td>\n",
       "      <td>20.428125</td>\n",
       "    </tr>\n",
       "    <tr>\n",
       "      <th>...</th>\n",
       "      <td>...</td>\n",
       "      <td>...</td>\n",
       "    </tr>\n",
       "    <tr>\n",
       "      <th>29177</th>\n",
       "      <td>29177</td>\n",
       "      <td>22.083125</td>\n",
       "    </tr>\n",
       "    <tr>\n",
       "      <th>29178</th>\n",
       "      <td>29178</td>\n",
       "      <td>22.073125</td>\n",
       "    </tr>\n",
       "    <tr>\n",
       "      <th>29179</th>\n",
       "      <td>29179</td>\n",
       "      <td>22.087500</td>\n",
       "    </tr>\n",
       "    <tr>\n",
       "      <th>29180</th>\n",
       "      <td>29180</td>\n",
       "      <td>22.133125</td>\n",
       "    </tr>\n",
       "    <tr>\n",
       "      <th>29181</th>\n",
       "      <td>29181</td>\n",
       "      <td>22.103125</td>\n",
       "    </tr>\n",
       "  </tbody>\n",
       "</table>\n",
       "<p>29182 rows × 2 columns</p>\n",
       "</div>"
      ],
      "text/plain": [
       "       Unnamed: 0     Spread\n",
       "0               0  20.380000\n",
       "1               1  20.400000\n",
       "2               2  20.412500\n",
       "3               3  20.418125\n",
       "4               4  20.428125\n",
       "...           ...        ...\n",
       "29177       29177  22.083125\n",
       "29178       29178  22.073125\n",
       "29179       29179  22.087500\n",
       "29180       29180  22.133125\n",
       "29181       29181  22.103125\n",
       "\n",
       "[29182 rows x 2 columns]"
      ]
     },
     "execution_count": 3,
     "metadata": {},
     "output_type": "execute_result"
    }
   ],
   "source": [
    "df = read_excel_to_series(file_path=FILE_PATH)\n",
    "df"
   ]
  },
  {
   "cell_type": "code",
   "execution_count": 33,
   "metadata": {},
   "outputs": [
    {
     "data": {
      "text/plain": [
       "array([20.38    , 20.4     , 20.4125  , ..., 22.0875  , 22.133125,\n",
       "       22.103125])"
      ]
     },
     "execution_count": 33,
     "metadata": {},
     "output_type": "execute_result"
    }
   ],
   "source": [
    "spread = strip_data(df=df, column=COLUMN)\n",
    "spread"
   ]
  },
  {
   "cell_type": "code",
   "execution_count": 34,
   "metadata": {},
   "outputs": [],
   "source": [
    "param_bounds = [(0.0, 50), (0.0, 50), (0.01, 50)]\n",
    "guess = np.array([0.001, 0.001, 0.002])"
   ]
  },
  {
   "cell_type": "code",
   "execution_count": 35,
   "metadata": {},
   "outputs": [],
   "source": [
    "dt = 1.0 / 78\n",
    "model = OrnsteinUhlenbeck()"
   ]
  },
  {
   "cell_type": "code",
   "execution_count": 40,
   "metadata": {},
   "outputs": [
    {
     "name": "stdout",
     "output_type": "stream",
     "text": [
      "Initial Params: [0.001 0.001 0.002]\n",
      "Initial Likelihood: -1883959.8568307795\n",
      "`xtol` termination condition is satisfied.\n",
      "Number of iterations: 48, function evaluations: 180, CG iterations: 84, optimality: 2.68e-04, constraint violation: 0.00e+00, execution time: 0.14 s.\n",
      "Final Params: [1.37286257e-06 1.92876746e-01 4.58293375e-01]\n",
      "Final Likelihood: 44646.39720428859\n"
     ]
    }
   ],
   "source": [
    "exact_est = MLE(\n",
    "    sample=spread, param_bounds=param_bounds, dt=dt, density=ExactDensity(model=model)\n",
    ").estimate_params(guess)"
   ]
  },
  {
   "cell_type": "code",
   "execution_count": 44,
   "metadata": {},
   "outputs": [],
   "source": [
    "params = exact_est.params\n",
    "alpha, kappa, sigma = params[0], params[1], params[2]"
   ]
  },
  {
   "cell_type": "code",
   "execution_count": null,
   "metadata": {},
   "outputs": [],
   "source": []
  }
 ],
 "metadata": {
  "kernelspec": {
   "display_name": "Python 3",
   "language": "python",
   "name": "python3"
  },
  "language_info": {
   "codemirror_mode": {
    "name": "ipython",
    "version": 3
   },
   "file_extension": ".py",
   "mimetype": "text/x-python",
   "name": "python",
   "nbconvert_exporter": "python",
   "pygments_lexer": "ipython3",
   "version": "3.11.3"
  }
 },
 "nbformat": 4,
 "nbformat_minor": 2
}
